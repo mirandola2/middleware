{
 "cells": [
  {
   "cell_type": "code",
   "execution_count": 100,
   "metadata": {},
   "outputs": [
    {
     "name": "stdout",
     "output_type": "stream",
     "text": [
      "['\\ufeffCodice Socio', 'Cognome', 'Nome', 'Sesso', 'Data Nascita', 'Status', 'Tipo Unità', 'Codice Socio Primario', 'Dettaglio', 'Nomina Capo']\n"
     ]
    }
   ],
   "source": [
    "import csv\n",
    "\n",
    "f = open(\"dati.csv\") \n",
    "csvf = csv.DictReader(f, delimiter=\";\")\n",
    "    \n",
    "print(csvf.fieldnames)"
   ]
  },
  {
   "cell_type": "code",
   "execution_count": 101,
   "metadata": {},
   "outputs": [],
   "source": [
    "from datetime import datetime\n",
    "\n",
    "dati=[]\n",
    "for row in csvf:\n",
    "    if row[\"Status\"]!=\"SOSPESO\":\n",
    "        dati.append(\n",
    "        {\n",
    "            'fullname': f'{row[\"Nome\"].title()} {row[\"Cognome\"].title()}',\n",
    "            'bd': datetime.strptime(row[\"Data Nascita\"], '%d/%m/%Y').strftime('%Y-%m-%d'),\n",
    "            'id': row[\"\\ufeffCodice Socio\"],\n",
    "            'unita': row[\"Tipo Unità\"]\n",
    "        })"
   ]
  },
  {
   "cell_type": "code",
   "execution_count": 102,
   "metadata": {},
   "outputs": [
    {
     "data": {
      "text/plain": [
       "167"
      ]
     },
     "execution_count": 102,
     "metadata": {},
     "output_type": "execute_result"
    }
   ],
   "source": [
    "len(dati)"
   ]
  },
  {
   "cell_type": "code",
   "execution_count": 103,
   "metadata": {},
   "outputs": [],
   "source": [
    "with open('out', 'w') as f:\n",
    "    for d in dati:\n",
    "        f.write(f\"\\t('{d['id']}', '{d['fullname']}', '{d['bd']}'),\\n\")"
   ]
  }
 ],
 "metadata": {
  "kernelspec": {
   "display_name": "Python 3",
   "language": "python",
   "name": "python3"
  },
  "language_info": {
   "codemirror_mode": {
    "name": "ipython",
    "version": 3
   },
   "file_extension": ".py",
   "mimetype": "text/x-python",
   "name": "python",
   "nbconvert_exporter": "python",
   "pygments_lexer": "ipython3",
   "version": "3.11.3"
  }
 },
 "nbformat": 4,
 "nbformat_minor": 2
}
